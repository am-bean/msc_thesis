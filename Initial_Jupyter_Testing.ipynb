{
 "cells": [
  {
   "cell_type": "markdown",
   "id": "96bcfcbd-d1b6-4b7b-bac5-8e3bdbeb24ae",
   "metadata": {},
   "source": [
    "### Basic Game"
   ]
  },
  {
   "cell_type": "code",
   "execution_count": 1,
   "id": "26e0efe0-20d6-4fe4-90be-be9a7ecf4800",
   "metadata": {},
   "outputs": [],
   "source": [
    "import gym\n",
    "from gym import spaces\n",
    "import numpy as np"
   ]
  },
  {
   "cell_type": "code",
   "execution_count": 198,
   "id": "9b7cc843-5ce6-4028-a676-4da5388aa020",
   "metadata": {},
   "outputs": [],
   "source": [
    "import random\n",
    "import numpy as np\n",
    "from collections import defaultdict\n",
    "import xxhash\n",
    "\n",
    "from pettingzoo.classic import tictactoe_v3"
   ]
  },
  {
   "cell_type": "code",
   "execution_count": 4,
   "id": "43932dc2-856b-414c-8674-f387e56b866b",
   "metadata": {},
   "outputs": [],
   "source": [
    "env = tictactoe_v3.env()"
   ]
  },
  {
   "cell_type": "code",
   "execution_count": 5,
   "id": "c871e867-d86f-4ad3-96d7-e60e0c9f0fb1",
   "metadata": {},
   "outputs": [
    {
     "data": {
      "text/plain": [
       "{'observation': array([[[0, 0],\n",
       "         [0, 0],\n",
       "         [0, 0]],\n",
       " \n",
       "        [[0, 0],\n",
       "         [0, 0],\n",
       "         [0, 0]],\n",
       " \n",
       "        [[0, 0],\n",
       "         [0, 0],\n",
       "         [0, 0]]], dtype=int8),\n",
       " 'action_mask': array([1, 1, 1, 1, 1, 1, 1, 1, 1], dtype=int8)}"
      ]
     },
     "execution_count": 5,
     "metadata": {},
     "output_type": "execute_result"
    }
   ],
   "source": [
    "env.reset()\n",
    "\n",
    "observation, reward, done, info = env.last()\n",
    "\n",
    "observation"
   ]
  },
  {
   "cell_type": "code",
   "execution_count": 29,
   "id": "69158893-ac35-4ceb-939e-3171db8ab6a6",
   "metadata": {},
   "outputs": [
    {
     "data": {
      "text/plain": [
       "'65ea394aefe804468cc42b20ecc8b606'"
      ]
     },
     "execution_count": 29,
     "metadata": {},
     "output_type": "execute_result"
    }
   ],
   "source": [
    "import hashlib\n",
    "\n",
    "\n",
    "\n",
    "encode_state(observation['observation'])"
   ]
  },
  {
   "cell_type": "code",
   "execution_count": 275,
   "id": "079a0a73-f0db-4757-9e8f-09e6baa6e31b",
   "metadata": {},
   "outputs": [],
   "source": [
    "class RandomAgent():\n",
    "    \n",
    "    def __init__(self):\n",
    "        pass\n",
    "    \n",
    "    def select_policy(self, observation):\n",
    "        action = random.choice(np.flatnonzero(observation['action_mask']))\n",
    "        return action\n",
    "    \n",
    "    def compute_score(self, observation, action):\n",
    "        return 1 / len(np.flatnonzero(observation['action_mask']))\n",
    "    \n",
    "    def reset_game(self):\n",
    "        pass\n",
    "    \n",
    "    def propagate_reward(self, reward):\n",
    "        pass"
   ]
  },
  {
   "cell_type": "code",
   "execution_count": 288,
   "id": "e5771dbb-e021-4326-9a4f-b6cd67a96c09",
   "metadata": {},
   "outputs": [],
   "source": [
    "class MCTSAgent():\n",
    "    \n",
    "    def __init__(self, cost_param):\n",
    "        self.c = cost_param\n",
    "        self.default_node_dict = {'avg_reward': 0, 'parent_visits': 0, 'self_visits': 0}\n",
    "        self.policy_tree = defaultdict(lambda: self.default_node_dict.copy())\n",
    "        self.forward_observations = []\n",
    "        self.forward_actions = []\n",
    "    \n",
    "    def reset_game(self):\n",
    "        self.forward_observations = []\n",
    "        self.forward_actions = []\n",
    "    \n",
    "    def encode_state(self,observation, action):\n",
    "        obs_bytes = observation['observation'].tobytes() + observation['action_mask'].tobytes() + action.tobytes()\n",
    "        m = xxhash.xxh64(obs_bytes)\n",
    "        state = m.hexdigest()\n",
    "        return state\n",
    "    \n",
    "    def select_policy(self, observation, use_ucb = True):\n",
    "        max_score = -100 # start from less than worst case\n",
    "        max_score_index = [0]\n",
    "        for action in np.nonzero(observation['action_mask'])[0]:\n",
    "            score = self.compute_score(observation, action, use_ucb)\n",
    "            if score > max_score:\n",
    "                max_score = score\n",
    "                max_score_index = [action]\n",
    "            elif score == max_score:\n",
    "                max_score_index.append(action)\n",
    "        action = random.choice(max_score_index)\n",
    "        self.forward_observations.append(observation)\n",
    "        self.forward_actions.append(action)\n",
    "        return action\n",
    "    \n",
    "    def compute_score(self, observation, action, use_ucb = True):\n",
    "        state_hash = self.encode_state(observation, action)\n",
    "        node_dict = self.policy_tree[state_hash]\n",
    "        \n",
    "        if node_dict['self_visits'] > 0:\n",
    "            if use_ucb:\n",
    "                ucb = self.c * (np.log(node_dict['parent_visits']) / node_dict['self_visits']) ** .5\n",
    "            else:\n",
    "                ucb = 0\n",
    "            node_score = node_dict['avg_reward'] + ucb\n",
    "        else:\n",
    "            node_score = 100 # must exceed the largest possible score so that each option is tried at least once\n",
    "            \n",
    "        return node_score\n",
    "    \n",
    "    def propagate_reward(self, reward):\n",
    "        for index, observation in enumerate(self.forward_observations):\n",
    "            action = self.forward_actions[index]\n",
    "            chosen_hash = self.encode_state(observation, action)\n",
    "            self.policy_tree[chosen_hash]['avg_reward'] = (self.policy_tree[chosen_hash]['avg_reward'] * self.policy_tree[chosen_hash]['self_visits'] + reward) / (self.policy_tree[chosen_hash]['self_visits'] + 1)\n",
    "            self.policy_tree[chosen_hash]['parent_visits'] += 1 \n",
    "            self.policy_tree[chosen_hash]['self_visits'] += 1\n",
    "            for possible_action in np.nonzero(observation['action_mask'])[0]:\n",
    "                if possible_action != action:\n",
    "                    unchosen_hash = self.encode_state(observation, possible_action)\n",
    "                    self.policy_tree[unchosen_hash]['parent_visits'] += 1\n",
    "        \n",
    "        self.forward_observations = []\n",
    "        self.forward_actions = []\n",
    "        \n",
    "    "
   ]
  },
  {
   "cell_type": "code",
   "execution_count": 209,
   "id": "25d73b7c-cf15-4764-8a89-88ae3e268f42",
   "metadata": {},
   "outputs": [],
   "source": [
    "agent = MCTSAgent(cost_param = 1)"
   ]
  },
  {
   "cell_type": "code",
   "execution_count": 210,
   "id": "b8be78de-373d-4b78-adac-546cdb1b70c2",
   "metadata": {},
   "outputs": [],
   "source": [
    "agent.select_policy(observation)\n",
    "agent.propagate_reward(1)"
   ]
  },
  {
   "cell_type": "code",
   "execution_count": 211,
   "id": "14f95d5c-190b-451a-b2cf-76394ec09c95",
   "metadata": {},
   "outputs": [],
   "source": [
    "agent1 = MCTSAgent(1)\n",
    "agent2 = MCTSAgent(2)"
   ]
  },
  {
   "cell_type": "code",
   "execution_count": 295,
   "id": "389d4993-022f-437c-bece-9af248f04956",
   "metadata": {},
   "outputs": [],
   "source": [
    "agent3 = MCTSAgent(.5)\n",
    "agent4 = MCTSAgent(.5)"
   ]
  },
  {
   "cell_type": "code",
   "execution_count": 285,
   "id": "6dee02bf-c54f-4d85-9fbc-b76859243b3d",
   "metadata": {},
   "outputs": [],
   "source": [
    "def play_game(env, agents, render = False):\n",
    "    env.reset()\n",
    "    rewards = defaultdict(int)\n",
    "    for agent in env.agent_iter():\n",
    "        observation, reward, done, info = env.last()\n",
    "        rewards[agent] += reward\n",
    "        action = agents[agent].select_policy(observation) if not done else None\n",
    "        env.step(action)\n",
    "        if render:\n",
    "            env.render() # this visualizes a single game\n",
    "            print()\n",
    "    return rewards"
   ]
  },
  {
   "cell_type": "code",
   "execution_count": 286,
   "id": "59a65db6-05dd-48e4-a2bc-bac29b4ff15e",
   "metadata": {},
   "outputs": [],
   "source": [
    "def play_demonstration_game(env, agents):\n",
    "    env.reset()\n",
    "    rewards = defaultdict(int)\n",
    "    for agent in env.agent_iter():\n",
    "        observation, reward, done, info = env.last()\n",
    "        rewards[agent] += reward\n",
    "        action = agents[agent].select_policy(observation) if not done else None\n",
    "        env.render() # this visualizes a single game\n",
    "        scores = {}\n",
    "        for pos_action in np.nonzero(observation['action_mask'])[0]:\n",
    "            scores[pos_action] = agents[agent].compute_score(observation, pos_action)\n",
    "        env.step(action)\n",
    "        print(scores)\n",
    "    return rewards"
   ]
  },
  {
   "cell_type": "code",
   "execution_count": 319,
   "id": "8e185ee4-029a-4579-97ba-f141a510e20d",
   "metadata": {},
   "outputs": [],
   "source": [
    "agents = {'player_1':agent1, 'player_2':agent2}"
   ]
  },
  {
   "cell_type": "code",
   "execution_count": 320,
   "id": "c31ab34e-8565-4996-902a-478c7f0a5e60",
   "metadata": {},
   "outputs": [
    {
     "name": "stdout",
     "output_type": "stream",
     "text": [
      "After 0 games: {1: 0, 0: 0, -1: 0}\n",
      "After 10000 games: {1: 11, 0: 9989, -1: 0}\n",
      "Wall time: 8.53 s\n"
     ]
    }
   ],
   "source": [
    "%%time \n",
    "\n",
    "p1_rewards = {1: 0, 0: 0, -1:0}\n",
    "for i in range(10001):\n",
    "    if i%10000 == 0:\n",
    "        print(f'After {i} games: {p1_rewards}')\n",
    "        p1_rewards = {1: 0, 0: 0, -1:0}\n",
    "    \n",
    "    rewards = play_game(env, agents, render = False)\n",
    "    p1_rewards[rewards['player_1']] += 1    \n",
    "    \n",
    "    for key, agent in agents.items():\n",
    "        agent.propagate_reward(rewards[key])"
   ]
  },
  {
   "cell_type": "code",
   "execution_count": 321,
   "id": "b5447113-7547-4c91-bf4e-5fe40f814226",
   "metadata": {},
   "outputs": [
    {
     "name": "stdout",
     "output_type": "stream",
     "text": [
      "     |     |     \n",
      "  -  |  -  |  -  \n",
      "_____|_____|_____\n",
      "     |     |     \n",
      "  -  |  -  |  -  \n",
      "_____|_____|_____\n",
      "     |     |     \n",
      "  -  |  -  |  -  \n",
      "     |     |     \n",
      "{0: 0.06399164781115207, 1: 0.05686147380825404, 2: 0.06399092192277939, 3: 0.06406613739732926, 4: 0.23634821292035865, 5: 0.06407086576378757, 6: 0.06395604425044674, 7: 0.0641280745077211, 8: 0.059810272992660375}\n",
      "     |     |     \n",
      "  -  |  -  |  -  \n",
      "_____|_____|_____\n",
      "     |     |     \n",
      "  -  |  X  |  -  \n",
      "_____|_____|_____\n",
      "     |     |     \n",
      "  -  |  -  |  -  \n",
      "     |     |     \n",
      "{0: -0.29374155208673647, 1: -0.26694373804601124, 2: 0.0038782760508702125, 3: -0.2790117308205139, 5: -0.27222192943269496, 6: -0.288898151717828, 7: -0.26774533132200246, 8: -0.29198554260945875}\n",
      "     |     |     \n",
      "  -  |  -  |  -  \n",
      "_____|_____|_____\n",
      "     |     |     \n",
      "  -  |  X  |  -  \n",
      "_____|_____|_____\n",
      "     |     |     \n",
      "  O  |  -  |  -  \n",
      "     |     |     \n",
      "{0: 0.036680331453687424, 1: 0.03665929404751418, 3: 0.03668096988668256, 5: 0.03665945386756432, 6: 0.03667405165464896, 7: 0.07405930715023598, 8: 0.036679056709476764}\n",
      "     |     |     \n",
      "  -  |  -  |  -  \n",
      "_____|_____|_____\n",
      "     |     |     \n",
      "  -  |  X  |  X  \n",
      "_____|_____|_____\n",
      "     |     |     \n",
      "  O  |  -  |  -  \n",
      "     |     |     \n",
      "{0: 0.008667553242055148, 1: 0.015612181589430715, 3: 0.005224467798646382, 5: 0.012591805955170954, 6: 0.014733272345840986, 8: 0.014733272345840986}\n",
      "     |     |     \n",
      "  -  |  -  |  -  \n",
      "_____|_____|_____\n",
      "     |     |     \n",
      "  O  |  X  |  X  \n",
      "_____|_____|_____\n",
      "     |     |     \n",
      "  O  |  -  |  -  \n",
      "     |     |     \n",
      "{0: 0.021463491357831356, 3: -0.008013589855174974, 5: 0.0030509322193097432, 6: -0.012445832465764806, 8: -0.012445832465764806}\n",
      "     |     |     \n",
      "  X  |  -  |  -  \n",
      "_____|_____|_____\n",
      "     |     |     \n",
      "  O  |  X  |  X  \n",
      "_____|_____|_____\n",
      "     |     |     \n",
      "  O  |  -  |  -  \n",
      "     |     |     \n",
      "{3: 0.01248611969758362, 5: 0.008593518340910267, 6: 0.005458430896832622, 8: 0.01609098157014962}\n",
      "     |     |     \n",
      "  X  |  -  |  -  \n",
      "_____|_____|_____\n",
      "     |     |     \n",
      "  O  |  X  |  X  \n",
      "_____|_____|_____\n",
      "     |     |     \n",
      "  O  |  -  |  O  \n",
      "     |     |     \n",
      "{3: -0.0041499463129118785, 5: 0.010821590325641617, 6: -0.012288028854921418}\n",
      "     |     |     \n",
      "  X  |  -  |  -  \n",
      "_____|_____|_____\n",
      "     |     |     \n",
      "  O  |  X  |  X  \n",
      "_____|_____|_____\n",
      "     |     |     \n",
      "  O  |  X  |  O  \n",
      "     |     |     \n",
      "{3: 0.01617935247776916, 6: 0.016053797656536917}\n",
      "     |     |     \n",
      "  X  |  O  |  -  \n",
      "_____|_____|_____\n",
      "     |     |     \n",
      "  O  |  X  |  X  \n",
      "_____|_____|_____\n",
      "     |     |     \n",
      "  O  |  X  |  O  \n",
      "     |     |     \n",
      "{6: 0.009336370889115098}\n",
      "     |     |     \n",
      "  X  |  O  |  X  \n",
      "_____|_____|_____\n",
      "     |     |     \n",
      "  O  |  X  |  X  \n",
      "_____|_____|_____\n",
      "     |     |     \n",
      "  O  |  X  |  O  \n",
      "     |     |     \n",
      "{}\n",
      "     |     |     \n",
      "  X  |  O  |  X  \n",
      "_____|_____|_____\n",
      "     |     |     \n",
      "  O  |  X  |  X  \n",
      "_____|_____|_____\n",
      "     |     |     \n",
      "  O  |  X  |  O  \n",
      "     |     |     \n",
      "{}\n"
     ]
    }
   ],
   "source": [
    "for agent in agents.values():\n",
    "    agent.reset_game()\n",
    "rewards = play_demonstration_game(env, agents)\n",
    "for key, agent in agents.items():\n",
    "    agent.propagate_reward(rewards[key])"
   ]
  },
  {
   "cell_type": "code",
   "execution_count": 274,
   "id": "b03aa00e-c9b5-451b-8f41-e51b685b74b9",
   "metadata": {},
   "outputs": [
    {
     "name": "stdout",
     "output_type": "stream",
     "text": [
      "     |     |     \n",
      "  -  |  -  |  -  \n",
      "_____|_____|_____\n",
      "     |     |     \n",
      "  -  |  -  |  -  \n",
      "_____|_____|_____\n",
      "     |     |     \n",
      "  -  |  -  |  -  \n",
      "     |     |     \n",
      "{0: 0.06387277343600734, 1: 0.056725266960116635, 2: 0.06387208184673905, 3: 0.06393260703861535, 4: 0.11021616338320817, 5: 0.06393644605461649, 6: 0.0638442565712733, 7: 0.06398222535551815, 8: 0.059675509904091414}\n",
      "     |     |     \n",
      "  -  |  -  |  -  \n",
      "_____|_____|_____\n",
      "     |     |     \n",
      "  -  |  X  |  -  \n",
      "_____|_____|_____\n",
      "     |     |     \n",
      "  -  |  -  |  -  \n",
      "     |     |     \n",
      "{0: -0.29474901256293157, 1: -0.2684447460422753, 2: 0.0036520817173287586, 3: -0.28028903300307684, 5: -0.273608331956229, 6: -0.290000678304427, 7: -0.2692143993238724, 8: -0.2930225129025134}\n",
      "     |     |     \n",
      "  -  |  -  |  -  \n",
      "_____|_____|_____\n",
      "     |     |     \n",
      "  -  |  X  |  -  \n",
      "_____|_____|_____\n",
      "     |     |     \n",
      "  O  |  -  |  -  \n",
      "     |     |     \n",
      "{0: 0.03657528215427307, 1: 0.03657555699744343, 3: 0.036575159384553704, 5: 0.03657606076592355, 6: 0.03657540325996909, 7: 0.03657622574998072, 8: 0.036575917865004866}\n",
      "     |     |     \n",
      "  -  |  -  |  -  \n",
      "_____|_____|_____\n",
      "     |     |     \n",
      "  -  |  X  |  X  \n",
      "_____|_____|_____\n",
      "     |     |     \n",
      "  O  |  -  |  -  \n",
      "     |     |     \n",
      "{0: 0.011549246326031937, 1: 0.016904378320717128, 3: 0.008786374369530892, 5: 0.015145555145986811, 6: 0.007634122091487616, 8: 0.007634122091487616}\n",
      "     |     |     \n",
      "  -  |  -  |  -  \n",
      "_____|_____|_____\n",
      "     |     |     \n",
      "  O  |  X  |  X  \n",
      "_____|_____|_____\n",
      "     |     |     \n",
      "  O  |  -  |  -  \n",
      "     |     |     \n",
      "{0: 0.013750046396715596, 3: 0.01071080229892618, 5: -0.0023992697753775216, 6: 0.01005135498796983, 8: 0.01005135498796983}\n",
      "     |     |     \n",
      "  X  |  -  |  -  \n",
      "_____|_____|_____\n",
      "     |     |     \n",
      "  O  |  X  |  X  \n",
      "_____|_____|_____\n",
      "     |     |     \n",
      "  O  |  -  |  -  \n",
      "     |     |     \n",
      "{3: 0.01146149253202855, 5: 0.01146149253202855, 6: 0.008688890901757063, 8: 0.017436760371000042}\n",
      "     |     |     \n",
      "  X  |  -  |  -  \n",
      "_____|_____|_____\n",
      "     |     |     \n",
      "  O  |  X  |  X  \n",
      "_____|_____|_____\n",
      "     |     |     \n",
      "  O  |  -  |  O  \n",
      "     |     |     \n",
      "{3: -0.010592988853308394, 5: 0.009556289211207408, 6: -0.018362587617305026}\n",
      "     |     |     \n",
      "  X  |  -  |  -  \n",
      "_____|_____|_____\n",
      "     |     |     \n",
      "  O  |  X  |  X  \n",
      "_____|_____|_____\n",
      "     |     |     \n",
      "  O  |  X  |  O  \n",
      "     |     |     \n",
      "{3: 0.017542455312651174, 6: 0.008640061019071554}\n",
      "     |     |     \n",
      "  X  |  O  |  -  \n",
      "_____|_____|_____\n",
      "     |     |     \n",
      "  O  |  X  |  X  \n",
      "_____|_____|_____\n",
      "     |     |     \n",
      "  O  |  X  |  O  \n",
      "     |     |     \n",
      "{6: 0.008288401937835784}\n",
      "     |     |     \n",
      "  X  |  O  |  X  \n",
      "_____|_____|_____\n",
      "     |     |     \n",
      "  O  |  X  |  X  \n",
      "_____|_____|_____\n",
      "     |     |     \n",
      "  O  |  X  |  O  \n",
      "     |     |     \n",
      "{}\n",
      "     |     |     \n",
      "  X  |  O  |  X  \n",
      "_____|_____|_____\n",
      "     |     |     \n",
      "  O  |  X  |  X  \n",
      "_____|_____|_____\n",
      "     |     |     \n",
      "  O  |  X  |  O  \n",
      "     |     |     \n",
      "{}\n"
     ]
    }
   ],
   "source": [
    "for agent in agents.values():\n",
    "    agent.reset_game()\n",
    "rewards = play_demonstration_game(env, agents)"
   ]
  },
  {
   "cell_type": "code",
   "execution_count": 264,
   "id": "15eae1d1-391c-4d1d-8ab6-bf9470a3c80f",
   "metadata": {},
   "outputs": [
    {
     "data": {
      "text/plain": [
       "{1: 211, 0: 99748, -1: 41}"
      ]
     },
     "execution_count": 264,
     "metadata": {},
     "output_type": "execute_result"
    }
   ],
   "source": [
    "for agent in agents.values():\n",
    "    agent.reset_game()\n",
    "    \n",
    "p1_rewards = {1: 0, 0: 0, -1:0}\n",
    "\n",
    "for i in range(100000):\n",
    "    rewards = play_game(env, agents, render = False)\n",
    "    p1_rewards[rewards['player_1']] += 1\n",
    "    for key, agent in agents.items():\n",
    "        agent.propagate_reward(rewards[key])\n",
    "    \n",
    "p1_rewards"
   ]
  },
  {
   "cell_type": "code",
   "execution_count": 276,
   "id": "14744ea3-c953-47c5-893b-c929a7d8c083",
   "metadata": {},
   "outputs": [],
   "source": [
    "agentRand = RandomAgent()"
   ]
  },
  {
   "cell_type": "code",
   "execution_count": 324,
   "id": "be4b29cd-ee50-43ed-9ad1-5fa99ff43635",
   "metadata": {},
   "outputs": [],
   "source": [
    "agents = {'player_1': agentRand, 'player_2': agent2}"
   ]
  },
  {
   "cell_type": "code",
   "execution_count": 339,
   "id": "c66de3eb-33f7-4a73-afb2-6e7c4d2b1399",
   "metadata": {},
   "outputs": [
    {
     "data": {
      "text/plain": [
       "{1: 221, 0: 2885, -1: 6894}"
      ]
     },
     "execution_count": 339,
     "metadata": {},
     "output_type": "execute_result"
    }
   ],
   "source": [
    "for agent in agents.values():\n",
    "    agent.reset_game()\n",
    "    \n",
    "p1_rewards = {1: 0, 0: 0, -1:0}\n",
    "\n",
    "for i in range(10000):\n",
    "    rewards = play_game(env, agents, render = False)\n",
    "    p1_rewards[rewards['player_1']] += 1 \n",
    "    if rewards['player_2'] != 0:\n",
    "        agents['player_2'].propagate_reward(rewards['player_2'])\n",
    "\n",
    "p1_rewards"
   ]
  },
  {
   "cell_type": "code",
   "execution_count": 355,
   "id": "088dbd08-5603-4aec-a28c-02d54d01750f",
   "metadata": {},
   "outputs": [
    {
     "data": {
      "text/plain": [
       "8646"
      ]
     },
     "execution_count": 355,
     "metadata": {},
     "output_type": "execute_result"
    }
   ],
   "source": [
    "foo = []\n",
    "for item in agent1.policy_tree.values():\n",
    "    foo.append(item['parent_visits'])\n",
    "foo.sort(reverse = True)\n",
    "len(foo)"
   ]
  },
  {
   "cell_type": "code",
   "execution_count": 337,
   "id": "b440616d-ee1e-4ccc-81d2-bc197744cd6e",
   "metadata": {},
   "outputs": [
    {
     "name": "stdout",
     "output_type": "stream",
     "text": [
      "     |     |     \n",
      "  -  |  -  |  -  \n",
      "_____|_____|_____\n",
      "     |     |     \n",
      "  -  |  -  |  -  \n",
      "_____|_____|_____\n",
      "     |     |     \n",
      "  -  |  -  |  -  \n",
      "     |     |     \n",
      "{0: 0.1111111111111111, 1: 0.1111111111111111, 2: 0.1111111111111111, 3: 0.1111111111111111, 4: 0.1111111111111111, 5: 0.1111111111111111, 6: 0.1111111111111111, 7: 0.1111111111111111, 8: 0.1111111111111111}\n",
      "     |     |     \n",
      "  -  |  X  |  -  \n",
      "_____|_____|_____\n",
      "     |     |     \n",
      "  -  |  -  |  -  \n",
      "_____|_____|_____\n",
      "     |     |     \n",
      "  -  |  -  |  -  \n",
      "     |     |     \n",
      "{0: -0.10480987832004501, 1: -0.1076373028362797, 2: -0.10625116893442443, 4: -0.103614874622094, 5: -0.10493219569049378, 6: -0.10809714292139583, 7: -0.10448300329355154, 8: -0.10605935888468987}\n",
      "     |     |     \n",
      "  -  |  X  |  -  \n",
      "_____|_____|_____\n",
      "     |     |     \n",
      "  -  |  O  |  -  \n",
      "_____|_____|_____\n",
      "     |     |     \n",
      "  -  |  -  |  -  \n",
      "     |     |     \n",
      "{0: 0.14285714285714285, 1: 0.14285714285714285, 2: 0.14285714285714285, 5: 0.14285714285714285, 6: 0.14285714285714285, 7: 0.14285714285714285, 8: 0.14285714285714285}\n",
      "     |     |     \n",
      "  -  |  X  |  -  \n",
      "_____|_____|_____\n",
      "     |     |     \n",
      "  X  |  O  |  -  \n",
      "_____|_____|_____\n",
      "     |     |     \n",
      "  -  |  -  |  -  \n",
      "     |     |     \n",
      "{0: -0.015792721558212847, 2: -0.01574653055016445, 5: -0.036530342031904195, 6: -0.015872324205709512, 7: -0.022929695019452412, 8: -0.016290045158762756}\n",
      "     |     |     \n",
      "  -  |  X  |  -  \n",
      "_____|_____|_____\n",
      "     |     |     \n",
      "  X  |  O  |  -  \n",
      "_____|_____|_____\n",
      "     |     |     \n",
      "  O  |  -  |  -  \n",
      "     |     |     \n",
      "{0: 0.2, 5: 0.2, 6: 0.2, 7: 0.2, 8: 0.2}\n",
      "     |     |     \n",
      "  -  |  X  |  -  \n",
      "_____|_____|_____\n",
      "     |     |     \n",
      "  X  |  O  |  -  \n",
      "_____|_____|_____\n",
      "     |     |     \n",
      "  O  |  -  |  X  \n",
      "     |     |     \n",
      "{0: -0.006714810885564804, 5: -0.01999155265946828, 6: -0.006168146539210828, 7: 0.0019006084078527774}\n",
      "     |     |     \n",
      "  -  |  X  |  -  \n",
      "_____|_____|_____\n",
      "     |     |     \n",
      "  X  |  O  |  O  \n",
      "_____|_____|_____\n",
      "     |     |     \n",
      "  O  |  -  |  X  \n",
      "     |     |     \n",
      "{0: 0.3333333333333333, 5: 0.3333333333333333, 6: 0.3333333333333333}\n",
      "     |     |     \n",
      "  -  |  X  |  -  \n",
      "_____|_____|_____\n",
      "     |     |     \n",
      "  X  |  O  |  O  \n",
      "_____|_____|_____\n",
      "     |     |     \n",
      "  O  |  X  |  X  \n",
      "     |     |     \n",
      "{0: -0.029181803813783547, 6: -0.01422566217465454}\n",
      "     |     |     \n",
      "  -  |  X  |  O  \n",
      "_____|_____|_____\n",
      "     |     |     \n",
      "  X  |  O  |  O  \n",
      "_____|_____|_____\n",
      "     |     |     \n",
      "  O  |  X  |  X  \n",
      "     |     |     \n",
      "{0: 1.0}\n",
      "     |     |     \n",
      "  -  |  X  |  O  \n",
      "_____|_____|_____\n",
      "     |     |     \n",
      "  X  |  O  |  O  \n",
      "_____|_____|_____\n",
      "     |     |     \n",
      "  O  |  X  |  X  \n",
      "     |     |     \n",
      "{0: 100}\n"
     ]
    }
   ],
   "source": [
    "for agent in agents.values():\n",
    "    agent.reset_game()\n",
    "rewards = play_demonstration_game(env, agents)"
   ]
  },
  {
   "cell_type": "markdown",
   "id": "e5e10f20-052d-429c-8bae-741974733093",
   "metadata": {},
   "source": [
    "# Testing PyTorch with GPU"
   ]
  },
  {
   "cell_type": "code",
   "execution_count": 1,
   "id": "46eaa9be-e076-4172-ae58-edb707930ed9",
   "metadata": {},
   "outputs": [
    {
     "name": "stdout",
     "output_type": "stream",
     "text": [
      "Is CUDA supported by this system? True\n",
      "CUDA version: 11.3\n",
      "ID of current CUDA device:0\n",
      "Name of current CUDA device:NVIDIA GeForce GTX 1050 Ti with Max-Q Design\n"
     ]
    }
   ],
   "source": [
    "import torch\n",
    "  \n",
    "print(f\"Is CUDA supported by this system? {torch.cuda.is_available()}\")\n",
    "print(f\"CUDA version: {torch.version.cuda}\")\n",
    "  \n",
    "# Storing ID of current CUDA device\n",
    "cuda_id = torch.cuda.current_device()\n",
    "print(f\"ID of current CUDA device:{torch.cuda.current_device()}\")\n",
    "        \n",
    "print(f\"Name of current CUDA device:{torch.cuda.get_device_name(cuda_id)}\")"
   ]
  }
 ],
 "metadata": {
  "kernelspec": {
   "display_name": "Python 3 (ipykernel)",
   "language": "python",
   "name": "python3"
  },
  "language_info": {
   "codemirror_mode": {
    "name": "ipython",
    "version": 3
   },
   "file_extension": ".py",
   "mimetype": "text/x-python",
   "name": "python",
   "nbconvert_exporter": "python",
   "pygments_lexer": "ipython3",
   "version": "3.9.7"
  }
 },
 "nbformat": 4,
 "nbformat_minor": 5
}
